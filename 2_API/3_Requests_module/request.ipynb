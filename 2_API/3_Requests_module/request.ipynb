{
 "cells": [
  {
   "cell_type": "code",
   "execution_count": 1,
   "metadata": {},
   "outputs": [],
   "source": [
    "import requests"
   ]
  },
  {
   "cell_type": "code",
   "execution_count": 2,
   "metadata": {},
   "outputs": [
    {
     "name": "stdout",
     "output_type": "stream",
     "text": [
      "Module version :  2.28.2 \n",
      " Copyright :  Copyright Kenneth Reitz \n",
      " Licence :  Apache 2.0 \n",
      " Author email :  me@kennethreitz.org \n",
      " Author :  Kenneth Reitz \n",
      " description: Python HTTP for Humans. \n",
      " Document url :   https://requests.readthedocs.io \n",
      " title :  requests\n"
     ]
    }
   ],
   "source": [
    "print(\"Module version : \",requests.__version__ , \"\\n\" ,\n",
    "        \"copyright : \",requests.__copyright__ ,  \"\\n\" ,\n",
    "        \"licence : \",requests. __license__ ,  \"\\n\" ,\n",
    "        \"Author email : \",requests.__author_email__ ,  \"\\n\" ,\n",
    "        \"author : \",requests.__author__ ,  \"\\n\" ,\n",
    "        \"description:\" , requests.__description__ ,  \"\\n\" ,\n",
    "        \"document url :  \",requests.__url__ ,  \"\\n\" ,\n",
    "        \"title : \",requests.__title__ )\n",
    "\n",
    "\n"
   ]
  }
 ],
 "metadata": {
  "kernelspec": {
   "display_name": "Python 3",
   "language": "python",
   "name": "python3"
  },
  "language_info": {
   "codemirror_mode": {
    "name": "ipython",
    "version": 3
   },
   "file_extension": ".py",
   "mimetype": "text/x-python",
   "name": "python",
   "nbconvert_exporter": "python",
   "pygments_lexer": "ipython3",
   "version": "3.10.1"
  }
 },
 "nbformat": 4,
 "nbformat_minor": 2
}
