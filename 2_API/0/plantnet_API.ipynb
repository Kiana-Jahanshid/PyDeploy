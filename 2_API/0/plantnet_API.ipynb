{
  "cells": [
    {
      "cell_type": "code",
      "execution_count": 2,
      "metadata": {
        "id": "ng9o4ttOl3M5"
      },
      "outputs": [],
      "source": [
        "import requests\n",
        "import dotenv\n",
        "import os"
      ]
    },
    {
      "cell_type": "code",
      "execution_count": null,
      "metadata": {},
      "outputs": [],
      "source": [
        "dotenv = dotenv.load_dotenv()"
      ]
    },
    {
      "cell_type": "code",
      "execution_count": null,
      "metadata": {},
      "outputs": [],
      "source": [
        "key = os.getenv(\"plantnet_token\")"
      ]
    },
    {
      "cell_type": "markdown",
      "metadata": {
        "id": "PgpEkm3pmm1l"
      },
      "source": [
        "# اینجا دیگه توکن توی هدر نیست\n",
        "# و توی پی لود هست"
      ]
    },
    {
      "cell_type": "markdown",
      "metadata": {
        "id": "mVgTc7bBnrTA"
      },
      "source": [
        "باید تصویر یک گیاه را بفرستیم"
      ]
    },
    {
      "cell_type": "markdown",
      "metadata": {
        "id": "eg0KYWANn36X"
      },
      "source": [
        "### Images (all images must respresent the same plant) [max: 5 images]\n",
        "type : array[file]"
      ]
    },
    {
      "cell_type": "code",
      "execution_count": 3,
      "metadata": {
        "colab": {
          "base_uri": "https://localhost:8080/"
        },
        "id": "xAKsJvCHlleZ",
        "outputId": "5c35c1b4-a7d9-4e01-cae2-7d67865f7f4c"
      },
      "outputs": [
        {
          "name": "stdout",
          "output_type": "stream",
          "text": [
            "200\n"
          ]
        },
        {
          "data": {
            "text/plain": [
              "{'query': {'project': 'all',\n",
              "  'images': ['7674ceff03c46c1280499e7a741fa926'],\n",
              "  'organs': ['auto'],\n",
              "  'includeRelatedImages': False,\n",
              "  'noReject': False},\n",
              " 'language': 'en',\n",
              " 'preferedReferential': 'k-world-flora',\n",
              " 'bestMatch': 'Helianthus debilis Nutt.',\n",
              " 'results': [{'score': 0.49158,\n",
              "   'species': {'scientificNameWithoutAuthor': 'Helianthus debilis',\n",
              "    'scientificNameAuthorship': 'Nutt.',\n",
              "    'genus': {'scientificNameWithoutAuthor': 'Helianthus',\n",
              "     'scientificNameAuthorship': '',\n",
              "     'scientificName': 'Helianthus'},\n",
              "    'family': {'scientificNameWithoutAuthor': 'Asteraceae',\n",
              "     'scientificNameAuthorship': '',\n",
              "     'scientificName': 'Asteraceae'},\n",
              "    'commonNames': ['Beach sunflower',\n",
              "     'Weak sunflower',\n",
              "     'Cucumberleaf sunflower'],\n",
              "    'scientificName': 'Helianthus debilis Nutt.'},\n",
              "   'gbif': {'id': '3119191'},\n",
              "   'powo': {'id': '119090-2'},\n",
              "   'iucn': {'id': '20694280', 'category': 'LC'}},\n",
              "  {'score': 0.22644,\n",
              "   'species': {'scientificNameWithoutAuthor': 'Helianthus petiolaris',\n",
              "    'scientificNameAuthorship': 'Nutt.',\n",
              "    'genus': {'scientificNameWithoutAuthor': 'Helianthus',\n",
              "     'scientificNameAuthorship': '',\n",
              "     'scientificName': 'Helianthus'},\n",
              "    'family': {'scientificNameWithoutAuthor': 'Asteraceae',\n",
              "     'scientificNameAuthorship': '',\n",
              "     'scientificName': 'Asteraceae'},\n",
              "    'commonNames': ['Plains sunflower',\n",
              "     'Prairie sunflower',\n",
              "     'Petioled sunflower'],\n",
              "    'scientificName': 'Helianthus petiolaris Nutt.'},\n",
              "   'gbif': {'id': '3119225'},\n",
              "   'powo': {'id': '119216-2'},\n",
              "   'iucn': {'id': '20694339', 'category': 'LC'}},\n",
              "  {'score': 0.13261,\n",
              "   'species': {'scientificNameWithoutAuthor': 'Helianthus giganteus',\n",
              "    'scientificNameAuthorship': 'L.',\n",
              "    'genus': {'scientificNameWithoutAuthor': 'Helianthus',\n",
              "     'scientificNameAuthorship': '',\n",
              "     'scientificName': 'Helianthus'},\n",
              "    'family': {'scientificNameWithoutAuthor': 'Asteraceae',\n",
              "     'scientificNameAuthorship': '',\n",
              "     'scientificName': 'Asteraceae'},\n",
              "    'commonNames': ['Giant sunflower', 'Indian-potato', 'Tall sunflower'],\n",
              "    'scientificName': 'Helianthus giganteus L.'},\n",
              "   'gbif': {'id': '3119240'},\n",
              "   'powo': {'id': '315753-2'},\n",
              "   'iucn': {'id': '20694297', 'category': 'LC'}},\n",
              "  {'score': 0.083,\n",
              "   'species': {'scientificNameWithoutAuthor': 'Helianthus annuus',\n",
              "    'scientificNameAuthorship': 'L.',\n",
              "    'genus': {'scientificNameWithoutAuthor': 'Helianthus',\n",
              "     'scientificNameAuthorship': '',\n",
              "     'scientificName': 'Helianthus'},\n",
              "    'family': {'scientificNameWithoutAuthor': 'Asteraceae',\n",
              "     'scientificNameAuthorship': '',\n",
              "     'scientificName': 'Asteraceae'},\n",
              "    'commonNames': ['Sunflower', 'آفتابگردان', 'Common sunflower'],\n",
              "    'scientificName': 'Helianthus annuus L.'},\n",
              "   'gbif': {'id': '9206251'},\n",
              "   'powo': {'id': '119003-2'},\n",
              "   'iucn': {'id': '19073408', 'category': 'LC'}},\n",
              "  {'score': 0.00324,\n",
              "   'species': {'scientificNameWithoutAuthor': 'Helianthus pauciflorus',\n",
              "    'scientificNameAuthorship': 'Nutt.',\n",
              "    'genus': {'scientificNameWithoutAuthor': 'Helianthus',\n",
              "     'scientificNameAuthorship': '',\n",
              "     'scientificName': 'Helianthus'},\n",
              "    'family': {'scientificNameWithoutAuthor': 'Asteraceae',\n",
              "     'scientificNameAuthorship': '',\n",
              "     'scientificName': 'Asteraceae'},\n",
              "    'commonNames': ['Stiff sunflower', 'Rigid sunflower'],\n",
              "    'scientificName': 'Helianthus pauciflorus Nutt.'},\n",
              "   'gbif': {'id': '3119231'},\n",
              "   'powo': {'id': '329249-2'},\n",
              "   'iucn': {'id': '20694335', 'category': 'LC'}},\n",
              "  {'score': 0.00201,\n",
              "   'species': {'scientificNameWithoutAuthor': 'Helianthus maximiliani',\n",
              "    'scientificNameAuthorship': 'Schrad.',\n",
              "    'genus': {'scientificNameWithoutAuthor': 'Helianthus',\n",
              "     'scientificNameAuthorship': '',\n",
              "     'scientificName': 'Helianthus'},\n",
              "    'family': {'scientificNameWithoutAuthor': 'Asteraceae',\n",
              "     'scientificNameAuthorship': '',\n",
              "     'scientificName': 'Asteraceae'},\n",
              "    'commonNames': ['Maximilian sunflower',\n",
              "     \"Maximilian's sunflower\",\n",
              "     'Narrow-leaved sunflower'],\n",
              "    'scientificName': 'Helianthus maximiliani Schrad.'},\n",
              "   'gbif': {'id': '3119206'},\n",
              "   'powo': {'id': '329260-2'},\n",
              "   'iucn': {'id': '20694305', 'category': 'LC'}},\n",
              "  {'score': 0.00157,\n",
              "   'species': {'scientificNameWithoutAuthor': 'Helianthus × laetiflorus',\n",
              "    'scientificNameAuthorship': 'Pers.',\n",
              "    'genus': {'scientificNameWithoutAuthor': 'Helianthus',\n",
              "     'scientificNameAuthorship': '',\n",
              "     'scientificName': 'Helianthus'},\n",
              "    'family': {'scientificNameWithoutAuthor': 'Asteraceae',\n",
              "     'scientificNameAuthorship': '',\n",
              "     'scientificName': 'Asteraceae'},\n",
              "    'commonNames': ['Perennial Sunflower',\n",
              "     'Cheerful sunflower',\n",
              "     'Beautiful Sunflower'],\n",
              "    'scientificName': 'Helianthus × laetiflorus Pers.'},\n",
              "   'gbif': {'id': '3119181'},\n",
              "   'powo': {'id': '329250-2'}},\n",
              "  {'score': 0.00145,\n",
              "   'species': {'scientificNameWithoutAuthor': 'Helianthus decapetalus',\n",
              "    'scientificNameAuthorship': 'L.',\n",
              "    'genus': {'scientificNameWithoutAuthor': 'Helianthus',\n",
              "     'scientificNameAuthorship': '',\n",
              "     'scientificName': 'Helianthus'},\n",
              "    'family': {'scientificNameWithoutAuthor': 'Asteraceae',\n",
              "     'scientificNameAuthorship': '',\n",
              "     'scientificName': 'Asteraceae'},\n",
              "    'commonNames': ['Thin-leaf sunflower',\n",
              "     'Ten-petals sunflower',\n",
              "     'Thinleaf sunflower'],\n",
              "    'scientificName': 'Helianthus decapetalus L.'},\n",
              "   'gbif': {'id': '3119185'},\n",
              "   'powo': {'id': '119102-2'},\n",
              "   'iucn': {'id': '64989879', 'category': 'LC'}},\n",
              "  {'score': 0.00135,\n",
              "   'species': {'scientificNameWithoutAuthor': 'Helianthus atrorubens',\n",
              "    'scientificNameAuthorship': 'L.',\n",
              "    'genus': {'scientificNameWithoutAuthor': 'Helianthus',\n",
              "     'scientificNameAuthorship': '',\n",
              "     'scientificName': 'Helianthus'},\n",
              "    'family': {'scientificNameWithoutAuthor': 'Asteraceae',\n",
              "     'scientificNameAuthorship': '',\n",
              "     'scientificName': 'Asteraceae'},\n",
              "    'commonNames': ['Dark-eyed sunflower',\n",
              "     'Dark-red sunflower',\n",
              "     'Purple-disc sunflower'],\n",
              "    'scientificName': 'Helianthus atrorubens L.'},\n",
              "   'gbif': {'id': '3119160'},\n",
              "   'powo': {'id': '329242-2'},\n",
              "   'iucn': {'id': '20694250', 'category': 'LC'}},\n",
              "  {'score': 0.00105,\n",
              "   'species': {'scientificNameWithoutAuthor': 'Helianthus tuberosus',\n",
              "    'scientificNameAuthorship': 'L.',\n",
              "    'genus': {'scientificNameWithoutAuthor': 'Helianthus',\n",
              "     'scientificNameAuthorship': '',\n",
              "     'scientificName': 'Helianthus'},\n",
              "    'family': {'scientificNameWithoutAuthor': 'Asteraceae',\n",
              "     'scientificNameAuthorship': '',\n",
              "     'scientificName': 'Asteraceae'},\n",
              "    'commonNames': ['Jerusalem artichoke', 'Sunflower Artichoke', 'Sunchoke'],\n",
              "    'scientificName': 'Helianthus tuberosus L.'},\n",
              "   'gbif': {'id': '3119175'},\n",
              "   'powo': {'id': '329252-2'},\n",
              "   'iucn': {'id': '20694364', 'category': 'LC'}}],\n",
              " 'version': '2024-02-22 (7.1)'}"
            ]
          },
          "execution_count": 3,
          "metadata": {},
          "output_type": "execute_result"
        }
      ],
      "source": [
        "headers = {}\n",
        "\n",
        "url = \"https://my-api.plantnet.org/v2/identify/all\"\n",
        "\n",
        "payload = {\n",
        "    \"api-key\" : key }\n",
        "\n",
        "files = {\n",
        "    \"images\" : open(\"/content/flower.jpg\" , \"rb\") #key\n",
        "}\n",
        "\n",
        "response = requests.post(url, headers=headers , params = payload , files=files)\n",
        "print(response.status_code)\n",
        "response.json()"
      ]
    }
  ],
  "metadata": {
    "colab": {
      "provenance": []
    },
    "kernelspec": {
      "display_name": "Python 3",
      "name": "python3"
    },
    "language_info": {
      "codemirror_mode": {
        "name": "ipython",
        "version": 3
      },
      "file_extension": ".py",
      "mimetype": "text/x-python",
      "name": "python",
      "nbconvert_exporter": "python",
      "pygments_lexer": "ipython3",
      "version": "3.10.1"
    }
  },
  "nbformat": 4,
  "nbformat_minor": 0
}
