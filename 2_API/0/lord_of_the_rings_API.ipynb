{
  "cells": [
    {
      "cell_type": "code",
      "execution_count": 1,
      "metadata": {
        "id": "ZkdeVMJYomO4"
      },
      "outputs": [],
      "source": [
        "import requests\n",
        "import json\n",
        "import dotenv\n",
        "import os"
      ]
    },
    {
      "cell_type": "code",
      "execution_count": null,
      "metadata": {},
      "outputs": [],
      "source": [
        "dotenv = dotenv.load_dotenv()\n",
        "\n",
        "key = os.getenv(\"lord_token\")"
      ]
    },
    {
      "cell_type": "code",
      "execution_count": null,
      "metadata": {
        "id": "QlkXf5AGpbgV"
      },
      "outputs": [],
      "source": [
        "response = requests.get(\"https://the-one-api.dev/v2/book\")"
      ]
    },
    {
      "cell_type": "code",
      "execution_count": 4,
      "metadata": {
        "colab": {
          "base_uri": "https://localhost:8080/"
        },
        "id": "BXk-9VYgqvS8",
        "outputId": "b3f6a435-fe5a-4a10-a52d-6dea5ea4be15"
      },
      "outputs": [
        {
          "data": {
            "text/plain": [
              "200"
            ]
          },
          "execution_count": 4,
          "metadata": {},
          "output_type": "execute_result"
        }
      ],
      "source": [
        "response.status_code"
      ]
    },
    {
      "cell_type": "code",
      "execution_count": 8,
      "metadata": {
        "colab": {
          "base_uri": "https://localhost:8080/"
        },
        "id": "o9os_iUixxvp",
        "outputId": "13c34dcc-0140-4569-861c-0363bf6cb07c"
      },
      "outputs": [
        {
          "data": {
            "text/plain": [
              "{'docs': [{'_id': '5cf5805fb53e011a64671582',\n",
              "   'name': 'The Fellowship Of The Ring'},\n",
              "  {'_id': '5cf58077b53e011a64671583', 'name': 'The Two Towers'},\n",
              "  {'_id': '5cf58080b53e011a64671584', 'name': 'The Return Of The King'}],\n",
              " 'total': 3,\n",
              " 'limit': 1000,\n",
              " 'offset': 0,\n",
              " 'page': 1,\n",
              " 'pages': 1}"
            ]
          },
          "execution_count": 8,
          "metadata": {},
          "output_type": "execute_result"
        }
      ],
      "source": [
        "#json.loads(response.text)\n",
        "#or\n",
        "response.json()"
      ]
    },
    {
      "cell_type": "code",
      "execution_count": 9,
      "metadata": {
        "colab": {
          "base_uri": "https://localhost:8080/"
        },
        "id": "hfko0M65yQtv",
        "outputId": "d3092f81-5d00-40ee-edef-3d968d31f426"
      },
      "outputs": [
        {
          "data": {
            "text/plain": [
              "401"
            ]
          },
          "execution_count": 9,
          "metadata": {},
          "output_type": "execute_result"
        }
      ],
      "source": [
        "response = requests.get(\"https://the-one-api.dev/v2/movie\")\n",
        "response.status_code\n",
        "# 401 = unauthorized"
      ]
    },
    {
      "cell_type": "markdown",
      "metadata": {
        "id": "9gGY8uuYzchF"
      },
      "source": [
        "# after getting token :"
      ]
    },
    {
      "cell_type": "code",
      "execution_count": 12,
      "metadata": {
        "colab": {
          "base_uri": "https://localhost:8080/"
        },
        "id": "fUXIUqMazb1p",
        "outputId": "214c0674-e081-47b9-b575-3452b2f5e0de"
      },
      "outputs": [
        {
          "data": {
            "text/plain": [
              "200"
            ]
          },
          "execution_count": 12,
          "metadata": {},
          "output_type": "execute_result"
        }
      ],
      "source": [
        "# headers is one of the requests.get() parameters\n",
        "header = {\n",
        "    \"Authorization\" : key\n",
        "}\n",
        "second_response = requests.get(\"https://the-one-api.dev/v2/movie\" , headers=header)\n",
        "second_response.status_code"
      ]
    },
    {
      "cell_type": "code",
      "execution_count": 11,
      "metadata": {
        "colab": {
          "base_uri": "https://localhost:8080/"
        },
        "id": "wm_Vtt5L1j9l",
        "outputId": "eb9eee48-40c8-4cc3-bae0-d250a1c0940c"
      },
      "outputs": [
        {
          "data": {
            "text/plain": [
              "{'docs': [{'_id': '5cd95395de30eff6ebccde56',\n",
              "   'name': 'The Lord of the Rings Series',\n",
              "   'runtimeInMinutes': 558,\n",
              "   'budgetInMillions': 281,\n",
              "   'boxOfficeRevenueInMillions': 2917,\n",
              "   'academyAwardNominations': 30,\n",
              "   'academyAwardWins': 17,\n",
              "   'rottenTomatoesScore': 94},\n",
              "  {'_id': '5cd95395de30eff6ebccde57',\n",
              "   'name': 'The Hobbit Series',\n",
              "   'runtimeInMinutes': 462,\n",
              "   'budgetInMillions': 675,\n",
              "   'boxOfficeRevenueInMillions': 2932,\n",
              "   'academyAwardNominations': 7,\n",
              "   'academyAwardWins': 1,\n",
              "   'rottenTomatoesScore': 66.33333333},\n",
              "  {'_id': '5cd95395de30eff6ebccde58',\n",
              "   'name': 'The Unexpected Journey',\n",
              "   'runtimeInMinutes': 169,\n",
              "   'budgetInMillions': 200,\n",
              "   'boxOfficeRevenueInMillions': 1021,\n",
              "   'academyAwardNominations': 3,\n",
              "   'academyAwardWins': 1,\n",
              "   'rottenTomatoesScore': 64},\n",
              "  {'_id': '5cd95395de30eff6ebccde59',\n",
              "   'name': 'The Desolation of Smaug',\n",
              "   'runtimeInMinutes': 161,\n",
              "   'budgetInMillions': 217,\n",
              "   'boxOfficeRevenueInMillions': 958.4,\n",
              "   'academyAwardNominations': 3,\n",
              "   'academyAwardWins': 0,\n",
              "   'rottenTomatoesScore': 75},\n",
              "  {'_id': '5cd95395de30eff6ebccde5a',\n",
              "   'name': 'The Battle of the Five Armies',\n",
              "   'runtimeInMinutes': 144,\n",
              "   'budgetInMillions': 250,\n",
              "   'boxOfficeRevenueInMillions': 956,\n",
              "   'academyAwardNominations': 1,\n",
              "   'academyAwardWins': 0,\n",
              "   'rottenTomatoesScore': 60},\n",
              "  {'_id': '5cd95395de30eff6ebccde5b',\n",
              "   'name': 'The Two Towers',\n",
              "   'runtimeInMinutes': 179,\n",
              "   'budgetInMillions': 94,\n",
              "   'boxOfficeRevenueInMillions': 926,\n",
              "   'academyAwardNominations': 6,\n",
              "   'academyAwardWins': 2,\n",
              "   'rottenTomatoesScore': 96},\n",
              "  {'_id': '5cd95395de30eff6ebccde5c',\n",
              "   'name': 'The Fellowship of the Ring',\n",
              "   'runtimeInMinutes': 178,\n",
              "   'budgetInMillions': 93,\n",
              "   'boxOfficeRevenueInMillions': 871.5,\n",
              "   'academyAwardNominations': 13,\n",
              "   'academyAwardWins': 4,\n",
              "   'rottenTomatoesScore': 91},\n",
              "  {'_id': '5cd95395de30eff6ebccde5d',\n",
              "   'name': 'The Return of the King',\n",
              "   'runtimeInMinutes': 201,\n",
              "   'budgetInMillions': 94,\n",
              "   'boxOfficeRevenueInMillions': 1120,\n",
              "   'academyAwardNominations': 11,\n",
              "   'academyAwardWins': 11,\n",
              "   'rottenTomatoesScore': 95}],\n",
              " 'total': 8,\n",
              " 'limit': 1000,\n",
              " 'offset': 0,\n",
              " 'page': 1,\n",
              " 'pages': 1}"
            ]
          },
          "execution_count": 11,
          "metadata": {},
          "output_type": "execute_result"
        }
      ],
      "source": [
        "second_response.json() "
      ]
    }
  ],
  "metadata": {
    "colab": {
      "provenance": []
    },
    "kernelspec": {
      "display_name": "Python 3",
      "name": "python3"
    },
    "language_info": {
      "codemirror_mode": {
        "name": "ipython",
        "version": 3
      },
      "file_extension": ".py",
      "mimetype": "text/x-python",
      "name": "python",
      "nbconvert_exporter": "python",
      "pygments_lexer": "ipython3",
      "version": "3.10.1"
    }
  },
  "nbformat": 4,
  "nbformat_minor": 0
}
