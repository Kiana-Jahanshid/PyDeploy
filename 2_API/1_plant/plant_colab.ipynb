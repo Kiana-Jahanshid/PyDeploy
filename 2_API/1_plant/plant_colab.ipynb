{
  "nbformat": 4,
  "nbformat_minor": 0,
  "metadata": {
    "colab": {
      "provenance": []
    },
    "kernelspec": {
      "name": "python3",
      "display_name": "Python 3"
    },
    "language_info": {
      "name": "python"
    }
  },
  "cells": [
    {
      "cell_type": "code",
      "source": [
        "!pip install -q python-dotenv"
      ],
      "metadata": {
        "id": "OslrW7p915Si"
      },
      "execution_count": 1,
      "outputs": []
    },
    {
      "cell_type": "code",
      "execution_count": null,
      "metadata": {
        "id": "6hZUJEJg1kKv"
      },
      "outputs": [],
      "source": [
        "import os\n",
        "import argparse\n",
        "import requests\n",
        "import dotenv\n",
        "import cv2\n",
        "\n",
        "\n",
        "class Plant():\n",
        "    def __init__(self, arg):\n",
        "        self.name = arg\n",
        "\n",
        "    def illusion_diffusion(self ):\n",
        "        payload = {\n",
        "        \"prompt\": f\"make a picture from {self.name} , as reallistic and natural as possible\",\n",
        "        \"image_url\": \"https://storage.googleapis.com/falserverless/illusion-examples/funky.jpeg\",\n",
        "        \"scheduler\": \"Euler\",\"image_size\": \"square_hd\",\"guidance_scale\": 7.5,\n",
        "        \"negative_prompt\": \"(worst quality, poor details:1.4), lowres, (artist name, signature, watermark:1.4), bad-artist-anime, bad_prompt_version2, bad-hands-5, ng_deepnegative_v1_75t\",\n",
        "        \"num_inference_steps\": 40,\"control_guidance_end\": 1,\"controlnet_conditioning_scale\": 1\n",
        "        }\n",
        "\n",
        "        header = {\"Authorization\": \"Key 0499e73e-2ac8-47e1-8dfb-a8ab30a1ed7c:41ace6ce40d12970c274e2266340060f\" ,\n",
        "                  \"Content-Type\": \"application/json\"}\n",
        "\n",
        "        response = requests.post(\"https://54285744-illusion-diffusion.gateway.alpha.fal.ai/\", headers=header , json=payload)\n",
        "        print(response.status_code)\n",
        "        res = response.json()\n",
        "        #print(response.text)\n",
        "        print(res[\"image\"][\"url\"])\n",
        "        image_url = res[\"image\"][\"url\"]\n",
        "        image = requests.get(image_url).content\n",
        "        with open('/content/image_name.jpg', 'wb') as handler:\n",
        "            handler.write(image)\n",
        "        image = cv2.imread(\"/content/image_name.jpg\")\n",
        "        image = cv2.cvtColor(image , cv2.COLOR_BGR2RGB)\n",
        "        return image\n",
        "\n",
        "\n",
        "    def plant_recognition(self , generated_image):\n",
        "        headers={}\n",
        "        url = \"https://my-api.plantnet.org/v2/identify/all\"\n",
        "        payload = {\n",
        "            \"api-key\" : \"2b10JCZ8QmyWz2E6FXcJZurtB\" }\n",
        "\n",
        "        files = {\n",
        "            \"images\" : open(\"/content/image_name.jpg\" , \"rb\") }\n",
        "\n",
        "        response = requests.post(url, headers=headers , params = payload , files=files)\n",
        "        print(response.status_code)\n",
        "        result = response.json()\n",
        "        print(response.json())\n",
        "        print(result[\"results\"])\n",
        "        result = result[\"results\"][1][\"species\"][\"commonNames\"]\n",
        "        return result\n",
        "\n",
        "\n",
        "if __name__ == \"__main__\":\n",
        "\n",
        "    # parser = argparse.ArgumentParser()\n",
        "    # parser.add_argument(\"--plant_name\" , type=str , help=\"Enter a plant/flower 's name\")\n",
        "    # arg = parser.parse_args()\n",
        "\n",
        "    # dotenv = dotenv.load_dotenv()\n",
        "    # key_ill_diff = os.getenv(\"illusion_token\")\n",
        "    # key_plant_rec = os.getenv(\"plantnet_token\")\n",
        "\n",
        "    name = \"peony\"\n",
        "    p = Plant(name)\n",
        "    generated_image = p.illusion_diffusion()\n",
        "    plant_name = p.plant_recognition(generated_image)\n",
        "    print(f\"\\n The plant's Common names are : {plant_name} \")\n"
      ]
    }
  ]
}