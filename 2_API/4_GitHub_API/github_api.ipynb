{
  "cells": [
    {
      "cell_type": "code",
      "execution_count": 1,
      "metadata": {
        "id": "C-nqBB51b__q"
      },
      "outputs": [],
      "source": [
        "import requests\n"
      ]
    },
    {
      "cell_type": "code",
      "execution_count": 8,
      "metadata": {
        "colab": {
          "base_uri": "https://localhost:8080/"
        },
        "id": "YXniNBzkb__r",
        "outputId": "7015d50d-ea2d-4934-bbb2-f796340e93b9"
      },
      "outputs": [
        {
          "output_type": "stream",
          "name": "stdout",
          "text": [
            "30\n",
            "esin\n",
            "DanialPahlavan\n",
            "mahdisml\n",
            "gamemann\n",
            "rasulsh\n",
            "cosmohacker\n",
            "iftakhermasum\n",
            "Choirrulloh\n",
            "ramincsy\n",
            "SajjadAemmi\n",
            "MSaberian\n",
            "ip681\n",
            "AbdollahRamezani\n",
            "akheradmand\n",
            "H-K-R\n",
            "alidehkhodaei\n",
            "Parisa-Bagherzadeh\n",
            "MaryamBoneh\n",
            "JohnMwendwa\n",
            "00mjk\n",
            "SajedehGharabadian\n",
            "Mehdih77\n",
            "BenyaminZojaji\n",
            "NahidEbrahimian\n",
            "hosseindamavandi\n",
            "yasinnorozzadeh\n",
            "MohamadNematizadeh\n",
            "FahimeMirveisi\n",
            "NimaAbdollahzadeh\n",
            "maryamsaeedi17\n"
          ]
        }
      ],
      "source": [
        "response = requests.get(\"https://api.github.com/users/Kiana-Jahanshid/followers\")\n",
        "followers = response.json()\n",
        "print(len(followers))\n",
        "for i in range(len(followers)):\n",
        "  print(followers[i][0])"
      ]
    },
    {
      "cell_type": "code",
      "source": [
        "response = requests.get(\"https://api.github.com/users/Kiana-Jahanshid/following\")\n",
        "following = response.json()\n",
        "print(len(following))\n",
        "for i in range(len(following)):\n",
        "  print(following[i][\"login\"])"
      ],
      "metadata": {
        "id": "m7SgaHNxe1kt",
        "outputId": "4e9b2112-d7f5-44af-e8d8-b727cf725b5b",
        "colab": {
          "base_uri": "https://localhost:8080/"
        }
      },
      "execution_count": 15,
      "outputs": [
        {
          "output_type": "stream",
          "name": "stdout",
          "text": [
            "26\n",
            "DanialPahlavan\n",
            "jadijadi\n",
            "hooshvare\n",
            "ultralytics\n",
            "SajjadAemmi\n",
            "MSaberian\n",
            "AbdollahRamezani\n",
            "akheradmand\n",
            "alidehkhodaei\n",
            "Parisa-Bagherzadeh\n",
            "MaryamBoneh\n",
            "SajedehGharabadian\n",
            "Mehdih77\n",
            "BenyaminZojaji\n",
            "mohammadhasanii\n",
            "NahidEbrahimian\n",
            "hosseindamavandi\n",
            "yasinnorozzadeh\n",
            "FahimeMirveisi\n",
            "NimaAbdollahzadeh\n",
            "saeideh-moghaddam\n",
            "maryamsaeedi17\n",
            "Minatalayi\n",
            "SinaHosseini\n",
            "KhadijehValipour\n",
            "hastishirazian\n"
          ]
        }
      ]
    }
  ],
  "metadata": {
    "kernelspec": {
      "display_name": "Python 3",
      "language": "python",
      "name": "python3"
    },
    "language_info": {
      "codemirror_mode": {
        "name": "ipython",
        "version": 3
      },
      "file_extension": ".py",
      "mimetype": "text/x-python",
      "name": "python",
      "nbconvert_exporter": "python",
      "pygments_lexer": "ipython3",
      "version": "3.10.1"
    },
    "colab": {
      "provenance": []
    }
  },
  "nbformat": 4,
  "nbformat_minor": 0
}